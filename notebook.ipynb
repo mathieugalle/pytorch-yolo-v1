{
 "cells": [
  {
   "cell_type": "code",
   "execution_count": 9,
   "metadata": {},
   "outputs": [
    {
     "name": "stdout",
     "output_type": "stream",
     "text": [
      "1.13.0\n",
      "True\n"
     ]
    }
   ],
   "source": [
    "import torch\n",
    "from torch import Tensor                  # tensor node in the computation graph\n",
    "import torch.nn as nn                     # neural networks\n",
    "import torch.nn.functional as F           # layers, activations and more\n",
    "\n",
    "print(torch.__version__)\n",
    "\n",
    "print(torch.cuda.is_available())"
   ]
  },
  {
   "cell_type": "code",
   "execution_count": 158,
   "metadata": {},
   "outputs": [],
   "source": [
    "config = [\n",
    "    (7, 64, 2),\n",
    "    \"m\",\n",
    "    (3, 192),\n",
    "    \"m\",\n",
    "    (1, 128),\n",
    "    (3, 256),\n",
    "    (1, 256),\n",
    "    (3, 512),\n",
    "    \"m\",\n",
    "    [4, [\n",
    "        (1, 256),\n",
    "        (3, 512)\n",
    "    ]],\n",
    "    (1, 512),\n",
    "    (3, 1024),\n",
    "    \"m\",\n",
    "    [2, [\n",
    "        (1, 512),\n",
    "        (3, 1024)\n",
    "    ]],\n",
    "    (3, 1024),\n",
    "    (3, 1024, 2),\n",
    "    (3, 1024),\n",
    "    (3, 1024),\n",
    "]"
   ]
  }
 ],
 "metadata": {
  "kernelspec": {
   "display_name": "Python 3.8.13 ('rplace_stable')",
   "language": "python",
   "name": "python3"
  },
  "language_info": {
   "codemirror_mode": {
    "name": "ipython",
    "version": 3
   },
   "file_extension": ".py",
   "mimetype": "text/x-python",
   "name": "python",
   "nbconvert_exporter": "python",
   "pygments_lexer": "ipython3",
   "version": "3.8.13"
  },
  "orig_nbformat": 4,
  "vscode": {
   "interpreter": {
    "hash": "84d7e03316cb1ae97e42eb3e56dfe1106777139cad06ac57823d58dda32fcfb7"
   }
  }
 },
 "nbformat": 4,
 "nbformat_minor": 2
}
