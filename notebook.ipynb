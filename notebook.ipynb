{
 "cells": [
  {
   "cell_type": "code",
   "execution_count": 9,
   "metadata": {},
   "outputs": [
    {
     "name": "stdout",
     "output_type": "stream",
     "text": [
      "1.13.0\n",
      "True\n"
     ]
    }
   ],
   "source": [
    "import torch\n",
    "from torch import Tensor                  # tensor node in the computation graph\n",
    "import torch.nn as nn                     # neural networks\n",
    "import torch.nn.functional as F           # layers, activations and more\n",
    "\n",
    "print(torch.__version__)\n",
    "\n",
    "print(torch.cuda.is_available())"
   ]
  },
  {
   "cell_type": "code",
   "execution_count": 158,
   "metadata": {},
   "outputs": [],
   "source": [
    "config = [\n",
    "    (7, 64, 2),\n",
    "    \"m\",\n",
    "    (3, 192),\n",
    "    \"m\",\n",
    "    (1, 128),\n",
    "    (3, 256),\n",
    "    (1, 256),\n",
    "    (3, 512),\n",
    "    \"m\",\n",
    "    [4, [\n",
    "        (1, 256),\n",
    "        (3, 512)\n",
    "    ]],\n",
    "    (1, 512),\n",
    "    (3, 1024),\n",
    "    \"m\",\n",
    "    [2, [\n",
    "        (1, 512),\n",
    "        (3, 1024)\n",
    "    ]],\n",
    "    (3, 1024),\n",
    "    (3, 1024, 2),\n",
    "    (3, 1024),\n",
    "    (3, 1024),\n",
    "]"
   ]
  },
  {
   "cell_type": "code",
   "execution_count": 15,
   "metadata": {},
   "outputs": [
    {
     "name": "stdout",
     "output_type": "stream",
     "text": [
      "resultat si pas la racine :  6.250000000000003e-06\n",
      "resultat avec   la racine :  0.00013932022500210285\n",
      "rapport :  0.0006250000000000002\n",
      "rapport :  0.013932022500210285\n"
     ]
    }
   ],
   "source": [
    "\n",
    "# comprendre pourquoi y'a une racine pour les width and height, et pas pour x et y\n",
    "\n",
    "true_x = 0.01\n",
    "pred_x = true_x * 1.25\n",
    "\n",
    "res1 = (pred_x - true_x)**2\n",
    "print(\"resultat si pas la racine : \", str(res1))\n",
    "\n",
    "res2 = (pred_x**0.5 - true_x**0.5)**2\n",
    "print(\"resultat avec   la racine : \", str(res2))\n",
    "\n",
    "print(\"rapport : \", str(res1 / true_x))\n",
    "\n",
    "\n",
    "print(\"rapport : \", str(res2 / true_x))\n",
    "\n",
    "# Effectivement, quand on passe de 4 à 0.4, le loss est divisé par 100 sans la racine, et seulement 10 (l'équivalent de la réduction) avec.\n",
    "# ça veut quand même dire que le loss est proportionnel à la surface de la boîte !\n",
    "# Donc que \"rater des petits objets est moins grave que rater des gros\"ArithmeticError. Ce n'est pas proportionnel à la surface, mais à la largeur\n",
    "# Est-ce que ça correspond à ce que je veux ? ... Plutôt oui.\n"
   ]
  }
 ],
 "metadata": {
  "kernelspec": {
   "display_name": "Python 3.8.13 ('rplace_stable')",
   "language": "python",
   "name": "python3"
  },
  "language_info": {
   "codemirror_mode": {
    "name": "ipython",
    "version": 3
   },
   "file_extension": ".py",
   "mimetype": "text/x-python",
   "name": "python",
   "nbconvert_exporter": "python",
   "pygments_lexer": "ipython3",
   "version": "3.8.13"
  },
  "orig_nbformat": 4,
  "vscode": {
   "interpreter": {
    "hash": "84d7e03316cb1ae97e42eb3e56dfe1106777139cad06ac57823d58dda32fcfb7"
   }
  }
 },
 "nbformat": 4,
 "nbformat_minor": 2
}
